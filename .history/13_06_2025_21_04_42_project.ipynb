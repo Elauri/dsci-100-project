{
 "cells": [
  {
   "cell_type": "code",
   "execution_count": null,
   "id": "f777d3a2-aba5-4975-a446-869738480938",
   "metadata": {},
   "outputs": [],
   "source": [
    "library(tidyverse)\n",
    "library(repr)\n",
    "library(tidymodels)\n",
    "options(repr.matrix.max.rows = 6)\n",
    "source('cleanup.R')"
   ]
  },
  {
   "cell_type": "code",
   "execution_count": null,
   "id": "e944a8e9-558f-4c30-b4fb-1dabc02bae15",
   "metadata": {},
   "outputs": [],
   "source": [
    "players_data <- read_csv(\"data/players.csv\")\n",
    "players_data"
   ]
  },
  {
   "cell_type": "code",
   "execution_count": null,
   "id": "8aab50a2-15f7-45f3-98fd-adcfc3d58081",
   "metadata": {},
   "outputs": [],
   "source": [
    "sessions_data <- read_csv(\"data/sessions.csv\")\n",
    "sessions_data"
   ]
  },
  {
   "cell_type": "markdown",
   "id": "3fe2fa4c-0d9e-483a-bd0a-46c4b3edd5c0",
   "metadata": {},
   "source": [
    "I would like to investigate whether a player subscribing to a gaming newsletter may be predicted by play time and age."
   ]
  },
  {
   "cell_type": "markdown",
   "id": "9caa88e9-a74e-461a-88a0-555b21f9083d",
   "metadata": {},
   "source": [
    "We can first observe the trend through graphs."
   ]
  },
  {
   "cell_type": "code",
   "execution_count": null,
   "id": "9623042c-2b23-4526-88ee-5130c80571f3",
   "metadata": {},
   "outputs": [],
   "source": [
    "time_age_plot <- players_data |>\n",
    "                ggplot(aes(x = Age, y = played_hours)) +\n",
    "                geom_point(aes(color = subscribe)) +\n",
    "                labs(x = \"Age\", y = \"Hours Played\", color = \"subscribed?\")\n",
    "time_age_plot"
   ]
  },
  {
   "cell_type": "code",
   "execution_count": null,
   "id": "0d1259bc-ec92-496d-96b2-5753d4e0067b",
   "metadata": {},
   "outputs": [],
   "source": [
    "age_histogram <- ggplot(players_data, aes(x = Age)) +\n",
    "                geom_histogram(binwidth = 10, aes(fill = subscribe))\n",
    "age_histogram"
   ]
  },
  {
   "cell_type": "code",
   "execution_count": null,
   "id": "87fdf3a9-5ca6-4aa4-b845-adc9e9fac0cb",
   "metadata": {},
   "outputs": [],
   "source": [
    "avg_time_sub <- players_data |>\n",
    "                group_by(subscribe) |>\n",
    "                summarize(avg_time_played_hrs = mean(played_hours, na.rm = TRUE))\n",
    "avg_time_sub"
   ]
  },
  {
   "cell_type": "code",
   "execution_count": null,
   "id": "f9817493-6d58-4854-a9f6-6890850ee7a7",
   "metadata": {},
   "outputs": [],
   "source": [
    "experience_sub <- players_data |>\n",
    "                group_by(experience, subscribe) |>\n",
    "                summarize(count = n()) |>\n",
    "                mutate(total_num = nrow(players_data)) |>\n",
    "                mutate(percentage = count / total_num) |>\n",
    "                select(experience, subscribe, percentage)\n",
    "experience_sub"
   ]
  },
  {
   "cell_type": "code",
   "execution_count": null,
   "id": "12c512b1-be79-4147-997a-0db596bc05ee",
   "metadata": {},
   "outputs": [],
   "source": [
    "experience_sub_graph <- ggplot(experience_sub, aes(x = experience, y = percentage)) +\n",
    "                        geom_bar(stat = \"identity\", position = \"dodge\", aes(fill = subscribe))\n",
    "experience_sub_graph"
   ]
  },
  {
   "cell_type": "code",
   "execution_count": null,
   "id": "d7c329e9-1a1b-4857-b195-9fa7a881ec67",
   "metadata": {},
   "outputs": [],
   "source": [
    "subscribe_count = players_data |>\n",
    "                group_by(subscribe) |>\n",
    "                summarize(count = n())\n",
    "subscribe_count"
   ]
  },
  {
   "cell_type": "code",
   "execution_count": null,
   "id": "a6e4ad52-81a7-4343-b583-25e62b84baec",
   "metadata": {},
   "outputs": [],
   "source": [
    "age_sub <- players_data |>\n",
    "        group_by(gender, subscribe) |>\n",
    "        summarize(count = n()) |>\n",
    "        arrange(desc(count)) |>\n",
    "        mutate(total_players = nrow(players_data)) |>\n",
    "        mutate(percentage = count / total_players) |>\n",
    "        select(gender, subscribe, percentage)\n",
    "age_sub"
   ]
  },
  {
   "cell_type": "code",
   "execution_count": null,
   "id": "08bf7331-d19d-407e-bb46-b10a337fdadd",
   "metadata": {},
   "outputs": [],
   "source": [
    "age_sub_plot <- ggplot(age_sub, aes(x = gender, y = percentage)) +\n",
    "                geom_bar(stat = \"identity\", position = \"dodge\", aes(fill = subscribe))\n",
    "age_sub_plot"
   ]
  },
  {
   "cell_type": "markdown",
   "id": "3b6999b0-2c1f-40a5-aab7-04cfcab9bf8f",
   "metadata": {},
   "source": [
    "# Predictive Model"
   ]
  },
  {
   "cell_type": "markdown",
   "id": "4ec0f0bc-7acc-4b31-b10c-4ae96a18005d",
   "metadata": {},
   "source": [
    "## Finding the Best K value"
   ]
  },
  {
   "cell_type": "code",
   "execution_count": null,
   "id": "6cffed20-39ba-4224-9648-fd971c1bdb55",
   "metadata": {},
   "outputs": [],
   "source": [
    "players_processed <- players_data |>\n",
    "                    filter(Age > 15, Age < 25) |>\n",
    "                      select(experience, subscribe, played_hours, gender) |>\n",
    "                    mutate(subscribe = as_factor(subscribe)) |>\n",
    "                    mutate(experience = as_factor(experience)) |>\n",
    "                    mutate(gender = as_factor(gender))\n",
    "players_processed"
   ]
  },
  {
   "cell_type": "code",
   "execution_count": null,
   "id": "bbbfde25-9c4b-4a72-ac49-88e899c09f83",
   "metadata": {},
   "outputs": [],
   "source": [
    "set.seed(1000)\n",
    "players_split <- initial_split(players_processed, prop = 0.70, strata = subscribe)\n",
    "players_training <- training(players_split)\n",
    "players_testing <- testing(players_split)"
   ]
  },
  {
   "cell_type": "code",
   "execution_count": null,
   "id": "09abbc9b-5bd8-409b-a66e-167faf596739",
   "metadata": {},
   "outputs": [],
   "source": [
    "set.seed(1000)\n",
    "sub_recipe <- recipe(subscribe ~ played_hours + experience + gender, data = players_training) |>\n",
    "            step_scale(played_hours) |>\n",
    "            step_center(played_hours)\n",
    "sub_spec <- nearest_neighbor(weight_func = \"rectangular\", neighbors = tune()) |>\n",
    "            set_engine(\"kknn\") |>\n",
    "            set_mode(\"classification\")\n",
    "sub_vfold <- vfold_cv(players_training, v = 5, strata = subscribe)\n",
    "vals <- tibble(neighbors = seq(from = 1, to = 10, by = 1))\n",
    "\n",
    "sub_fit <- workflow() |>\n",
    "        add_recipe(sub_recipe) |>\n",
    "        add_model(sub_spec) |>\n",
    "        tune_grid(resamples = sub_vfold, grid = vals) |>\n",
    "        collect_metrics() |>\n",
    "        filter(.metric == \"accuracy\") |>\n",
    "        filter(mean == max(mean))\n",
    "sub_fit"
   ]
  },
  {
   "cell_type": "code",
   "execution_count": null,
   "id": "80c92783-8188-482b-bd72-63cbba9b4df2",
   "metadata": {},
   "outputs": [],
   "source": [
    "set.seed(3000)\n",
    "tuned_spec <- nearest_neighbor(weight_func = \"rectangular\", neighbors = 9) |>\n",
    "            set_engine(\"kknn\") |>\n",
    "            set_mode(\"classification\")\n",
    "tuned_fit <- workflow() |>\n",
    "            add_recipe(sub_recipe) |>\n",
    "            add_model(tuned_spec) |>\n",
    "            fit(players_training)"
   ]
  },
  {
   "cell_type": "code",
   "execution_count": null,
   "id": "451c4723-a407-439c-98dc-d6d9bf2e48c9",
   "metadata": {},
   "outputs": [],
   "source": [
    "set.seed(4000)\n",
    "players_predictions <- predict(tuned_fit, players_testing) |>\n",
    "                    bind_cols(players_testing)\n",
    "players_predictions\n",
    "players_metrics <- players_predictions |>\n",
    "                metrics(truth = subscribe, estimate = .pred_class)\n",
    "players_metrics\n",
    "players_conf_mat <- players_predictions |>\n",
    "                    conf_mat(truth = subscribe, estimate = .pred_class)\n",
    "players_conf_mat"
   ]
  },
  {
   "cell_type": "markdown",
   "id": "b66b4a9c-0723-462d-90c9-3cdb95b2581d",
   "metadata": {},
   "source": [
    "$Recall = 35 / 37 = 0.91$"
   ]
  },
  {
   "cell_type": "markdown",
   "id": "f586fe48-098a-4b1b-8376-672fd4e99917",
   "metadata": {},
   "source": [
    "$Precision = 40 / 54 = 0.74$"
   ]
  },
  {
   "cell_type": "code",
   "execution_count": null,
   "id": "09eff0ab-4edd-4cf6-960f-3c04b0426104",
   "metadata": {},
   "outputs": [],
   "source": []
  }
 ],
 "metadata": {
  "kernelspec": {
   "display_name": "R",
   "language": "R",
   "name": "ir"
  },
  "language_info": {
   "codemirror_mode": "r",
   "file_extension": ".r",
   "mimetype": "text/x-r-source",
   "name": "R",
   "pygments_lexer": "r",
   "version": "4.3.3"
  }
 },
 "nbformat": 4,
 "nbformat_minor": 5
}
